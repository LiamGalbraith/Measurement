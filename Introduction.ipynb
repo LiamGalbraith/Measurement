{
 "nbformat": 4,
 "nbformat_minor": 2,
 "metadata": {
  "language_info": {
   "name": "python",
   "codemirror_mode": {
    "name": "ipython",
    "version": 3
   },
   "version": "3.8.3-final"
  },
  "orig_nbformat": 2,
  "file_extension": ".py",
  "mimetype": "text/x-python",
  "name": "python",
  "npconvert_exporter": "python",
  "pygments_lexer": "ipython3",
  "version": 3,
  "kernelspec": {
   "name": "python38364biteseencetoolboxemeaconda201bd9e601d04613b5b72d320ff9c40a",
   "display_name": "Python 3.8.3 64-bit ('eseence_toolbox_emea': conda)"
  }
 },
 "cells": [
  {
   "cell_type": "markdown",
   "metadata": {},
   "source": [
    "# Difference in Differences\n",
    "To get a basic understanding of difference in differences,  we will work through [this video](https://www.youtube.com/watch?v=J7q2H8aB8bQ), but implement the examples in Python"
   ]
  },
  {
   "cell_type": "markdown",
   "metadata": {},
   "source": [
    "## Example - Did free lunches improve student test scores in Sao Paolo?\n",
    "\n",
    "In Brazil, 5th  graders take a standardised maths test at the end of the year.\n",
    "\n",
    "In 2009, Sao Paolo (Brazil) introduced free lunches.  Did this have an impact on test scores?"
   ]
  },
  {
   "cell_type": "code",
   "execution_count": 23,
   "metadata": {},
   "outputs": [
    {
     "data": {
      "text/html": "<div>\n<style scoped>\n    .dataframe tbody tr th:only-of-type {\n        vertical-align: middle;\n    }\n\n    .dataframe tbody tr th {\n        vertical-align: top;\n    }\n\n    .dataframe thead th {\n        text-align: right;\n    }\n</style>\n<table border=\"1\" class=\"dataframe\">\n  <thead>\n    <tr style=\"text-align: right;\">\n      <th></th>\n      <th>2008</th>\n      <th>2010</th>\n    </tr>\n  </thead>\n  <tbody>\n    <tr>\n      <th>Sao Paolo</th>\n      <td>20</td>\n      <td>90</td>\n    </tr>\n  </tbody>\n</table>\n</div>",
      "text/plain": "           2008  2010\nSao Paolo    20    90"
     },
     "execution_count": 23,
     "metadata": {},
     "output_type": "execute_result"
    }
   ],
   "source": [
    "import pandas as pd\n",
    "\n",
    "pd.DataFrame([[20, 90]], columns=['2008', '2010'], index=['Sao Paolo'])"
   ]
  },
  {
   "cell_type": "markdown",
   "metadata": {},
   "source": [
    "The difference in test scores will be at least partially due to the program.\n",
    "\n",
    "Suppose the World Cup was during the week of the exam in 2008, but not in 2010. This might also influence the difference in the test scores between the two years. There will likely also be a trend between these values.\n",
    "\n",
    "The difference between these scores is $D_{1} = D_{free\\ lunch} + D_{trend}$\n",
    "\n",
    "If we also had test scores in Rio..."
   ]
  },
  {
   "cell_type": "code",
   "execution_count": 24,
   "metadata": {},
   "outputs": [
    {
     "data": {
      "text/html": "<div>\n<style scoped>\n    .dataframe tbody tr th:only-of-type {\n        vertical-align: middle;\n    }\n\n    .dataframe tbody tr th {\n        vertical-align: top;\n    }\n\n    .dataframe thead th {\n        text-align: right;\n    }\n</style>\n<table border=\"1\" class=\"dataframe\">\n  <thead>\n    <tr style=\"text-align: right;\">\n      <th></th>\n      <th>2008</th>\n      <th>2010</th>\n    </tr>\n  </thead>\n  <tbody>\n    <tr>\n      <th>Sao Paolo</th>\n      <td>20</td>\n      <td>90</td>\n    </tr>\n    <tr>\n      <th>Rio</th>\n      <td>30</td>\n      <td>70</td>\n    </tr>\n  </tbody>\n</table>\n</div>",
      "text/plain": "           2008  2010\nSao Paolo    20    90\nRio          30    70"
     },
     "execution_count": 24,
     "metadata": {},
     "output_type": "execute_result"
    }
   ],
   "source": [
    "\n",
    "pd.DataFrame([[20, 90], [30, 70]], columns=['2008', '2010'], index=['Sao Paolo', 'Rio'])"
   ]
  },
  {
   "cell_type": "markdown",
   "metadata": {},
   "source": [
    "If we're willing to assume that the difference across time in Rio is reflective of what woild have happened across Sao Paolo, then we can get our difference of differences estimate.\n",
    "\n",
    "$$Difference\\ in\\ Differences = D_{SP} - D_{Rio}$$\n",
    "\n",
    "This can also be calculated as:\n",
    "$$Difference\\ in\\ Differences = D_{2010} - D_{2008}$$\n",
    "\n",
    "If any of the assumptions that have to be made sound fishy to you, you should be worried about the validitiy of the estimate."
   ]
  },
  {
   "cell_type": "markdown",
   "metadata": {},
   "source": [
    "# When can you use diff-in-diff?\n",
    "\n",
    "* You want to evaluate a program or treatment.\n",
    "* You have a control and treatment group.\n",
    "* You have observations for both of them before and after.\n",
    "\n",
    "If the treatment is random you don't need a difference-in-differences to get unbiased estimates of the effect, you can simply look at differences between the treatment and the control groups.\n",
    "\n",
    "If you're sure nothing else changed between the measures of your outcomes before and after implementation, you could do a simple before / after difference to get the effect.\n",
    "\n",
    "If the treatment was assigned to different groups based entriely on observable characteristics, you culd use multiple regression and control for these characteristics to get an estimate for the program effect. Unfortunately, you often don't know how the program was assigned or what other differences might exist between the groups."
   ]
  },
  {
   "cell_type": "code",
   "execution_count": 27,
   "metadata": {},
   "outputs": [],
   "source": [
    "data = [['Miguel', 40, 0, 0],\n",
    "        ['Julia', 80, 1, 1],\n",
    "        ['Davi', 20, 0, 0],\n",
    "        ['Sophia', 100, 1, 1],\n",
    "        ['Gabriel', 30, 0, 0],\n",
    "        ['Isabella', 0, 1, 0],\n",
    "        ['Davi', 20, 0, 0],\n",
    "        ['Arthur', 60, 0, 1],\n",
    "        ['Manuela', 40, 1, 0],\n",
    "        ['Lucas', 60, 0, 1],\n",
    "        ['Giovanna', 90, 0, 1]]\n",
    "\n",
    "df = pd.DataFrame(data, columns=['name', 'score', 'D(Treatment)', 'D(Post)'])"
   ]
  },
  {
   "cell_type": "code",
   "execution_count": 26,
   "metadata": {},
   "outputs": [
    {
     "data": {
      "text/html": "<div>\n<style scoped>\n    .dataframe tbody tr th:only-of-type {\n        vertical-align: middle;\n    }\n\n    .dataframe tbody tr th {\n        vertical-align: top;\n    }\n\n    .dataframe thead th {\n        text-align: right;\n    }\n</style>\n<table border=\"1\" class=\"dataframe\">\n  <thead>\n    <tr style=\"text-align: right;\">\n      <th></th>\n      <th>name</th>\n      <th>score</th>\n      <th>treatment</th>\n      <th>post</th>\n    </tr>\n  </thead>\n  <tbody>\n    <tr>\n      <th>0</th>\n      <td>Miguel</td>\n      <td>40</td>\n      <td>0</td>\n      <td>0</td>\n    </tr>\n    <tr>\n      <th>1</th>\n      <td>Julia</td>\n      <td>80</td>\n      <td>1</td>\n      <td>1</td>\n    </tr>\n    <tr>\n      <th>2</th>\n      <td>Davi</td>\n      <td>20</td>\n      <td>0</td>\n      <td>0</td>\n    </tr>\n    <tr>\n      <th>3</th>\n      <td>Sophia</td>\n      <td>100</td>\n      <td>1</td>\n      <td>1</td>\n    </tr>\n    <tr>\n      <th>4</th>\n      <td>Gabriel</td>\n      <td>30</td>\n      <td>0</td>\n      <td>0</td>\n    </tr>\n    <tr>\n      <th>5</th>\n      <td>Isabella</td>\n      <td>0</td>\n      <td>1</td>\n      <td>0</td>\n    </tr>\n    <tr>\n      <th>6</th>\n      <td>Davi</td>\n      <td>20</td>\n      <td>0</td>\n      <td>0</td>\n    </tr>\n    <tr>\n      <th>7</th>\n      <td>Arthur</td>\n      <td>60</td>\n      <td>0</td>\n      <td>1</td>\n    </tr>\n    <tr>\n      <th>8</th>\n      <td>Manuela</td>\n      <td>40</td>\n      <td>1</td>\n      <td>0</td>\n    </tr>\n    <tr>\n      <th>9</th>\n      <td>Lucas</td>\n      <td>60</td>\n      <td>0</td>\n      <td>1</td>\n    </tr>\n    <tr>\n      <th>10</th>\n      <td>Giovanna</td>\n      <td>90</td>\n      <td>0</td>\n      <td>1</td>\n    </tr>\n  </tbody>\n</table>\n</div>",
      "text/plain": "        name  score  treatment  post\n0     Miguel     40          0     0\n1      Julia     80          1     1\n2       Davi     20          0     0\n3     Sophia    100          1     1\n4    Gabriel     30          0     0\n5   Isabella      0          1     0\n6       Davi     20          0     0\n7     Arthur     60          0     1\n8    Manuela     40          1     0\n9      Lucas     60          0     1\n10  Giovanna     90          0     1"
     },
     "execution_count": 26,
     "metadata": {},
     "output_type": "execute_result"
    }
   ],
   "source": [
    "df"
   ]
  },
  {
   "cell_type": "markdown",
   "metadata": {},
   "source": [
    "# DD with a regression\n",
    "\n",
    "$$y = \\beta_{0}\\ +\\ \\beta_{1}D^{Post}\\ +\\ \\beta_{2}D^{Tr}\\ +\\ \\beta_{3}D^{Post}D^{Tr}\\ +\\ \\epsilon$$"
   ]
  },
  {
   "cell_type": "code",
   "execution_count": null,
   "metadata": {},
   "outputs": [],
   "source": []
  }
 ]
}